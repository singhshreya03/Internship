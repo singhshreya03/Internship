{
 "cells": [
  {
   "cell_type": "code",
   "execution_count": 7,
   "id": "42dad8ec",
   "metadata": {},
   "outputs": [
    {
     "name": "stdout",
     "output_type": "stream",
     "text": [
      "factorial of 6 is 720\n"
     ]
    }
   ],
   "source": [
    "import math \n",
    "number = 6\n",
    "factorial = math.factorial(number)\n",
    "\n",
    "print(\"factorial of\",number, \"is\",factorial)"
   ]
  },
  {
   "cell_type": "code",
   "execution_count": 20,
   "id": "923086a1",
   "metadata": {},
   "outputs": [
    {
     "name": "stdout",
     "output_type": "stream",
     "text": [
      "28 is not a prime number\n"
     ]
    }
   ],
   "source": [
    "num = 28\n",
    "\n",
    "\n",
    "\n",
    "if num== 1:\n",
    "    print(num, \"is not a prime number\")\n",
    "elif num > 1:\n",
    "    \n",
    "    for i in range(2, num):\n",
    "        if (num % i) == 0:\n",
    "            \n",
    "            flag = True\n",
    "          \n",
    "            break\n",
    "\n",
    "    \n",
    "    if flag:\n",
    "        print(num, \"is not a prime number\")\n",
    "    else:\n",
    "        print(num, \"is a prime number\")"
   ]
  },
  {
   "cell_type": "code",
   "execution_count": 34,
   "id": "646a9173",
   "metadata": {},
   "outputs": [
    {
     "name": "stdout",
     "output_type": "stream",
     "text": [
      "No\n"
     ]
    }
   ],
   "source": [
    "str = 'indian'\n",
    "j = -1\n",
    "flag = 0\n",
    "for i in str:\n",
    "    if i != str[j]:\n",
    "        flag = 1\n",
    "        break\n",
    "        j = j - 1\n",
    "if flag == 1:\n",
    "    print(\"No\")\n",
    "else:\n",
    "    print(\"Yes\")"
   ]
  },
  {
   "cell_type": "code",
   "execution_count": 6,
   "id": "abf882cd",
   "metadata": {},
   "outputs": [
    {
     "name": "stdout",
     "output_type": "stream",
     "text": [
      "Count of the characters in datatrained is - \n",
      " {'d': 2, 'a': 3, 't': 2, 'r': 1, 'i': 1, 'n': 1, 'e': 1}\n"
     ]
    }
   ],
   "source": [
    "teststring = \"datatrained\"\n",
    " \n",
    "\n",
    "freq = {}\n",
    " \n",
    "for i in teststring:\n",
    "    if i in freq:\n",
    "        freq[i] += 1\n",
    "    else:\n",
    "        freq[i] = 1\n",
    " \n",
    "\n",
    "print(\"Count of the characters in datatrained is - \\n \"\n",
    "      +str(freq))"
   ]
  },
  {
   "cell_type": "code",
   "execution_count": null,
   "id": "1a36ff53",
   "metadata": {},
   "outputs": [
    {
     "name": "stdout",
     "output_type": "stream",
     "text": [
      "Input length of shorter triangle sides -\n"
     ]
    }
   ],
   "source": [
    "\n",
    "from math import sqrt\n",
    "\n",
    "print(\"Input length of shorter triangle sides -\")\n",
    "\n",
    "a = float(input(\"a - \"))\n",
    "\n",
    "b = float(input(\"b - \"))\n",
    "\n",
    "c = sqrt(a**2 + b**2)\n",
    "\n",
    "print(\"The length of hypotenuse is -\", c)"
   ]
  },
  {
   "cell_type": "code",
   "execution_count": null,
   "id": "0c246d38",
   "metadata": {},
   "outputs": [],
   "source": []
  }
 ],
 "metadata": {
  "kernelspec": {
   "display_name": "Python 3 (ipykernel)",
   "language": "python",
   "name": "python3"
  },
  "language_info": {
   "codemirror_mode": {
    "name": "ipython",
    "version": 3
   },
   "file_extension": ".py",
   "mimetype": "text/x-python",
   "name": "python",
   "nbconvert_exporter": "python",
   "pygments_lexer": "ipython3",
   "version": "3.11.4"
  }
 },
 "nbformat": 4,
 "nbformat_minor": 5
}
