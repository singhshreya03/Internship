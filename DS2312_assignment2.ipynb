{
 "cells": [
  {
   "cell_type": "code",
   "execution_count": 8,
   "id": "619c49b4",
   "metadata": {},
   "outputs": [
    {
     "name": "stdout",
     "output_type": "stream",
     "text": [
      "Python:Exercises::PHP:exercises:\n"
     ]
    }
   ],
   "source": [
    "import re\n",
    "words = 'Python Exercises, PHP exercises.'\n",
    "print(re.sub(\"[ ,.]\", \":\", words))\n"
   ]
  },
  {
   "cell_type": "code",
   "execution_count": 13,
   "id": "b43f7a19",
   "metadata": {},
   "outputs": [],
   "source": [
    "import pandas as pd\n",
    "import re\n",
    "dictionary = {'SUMMARY' : ['hello, world!', 'XXXXX test', '123four, five:; six...']}\n",
    "df = pd.DataFrame(dictionary)\n",
    "df['SUMMARY'] = df['SUMMARY'].apply(lambda x: re.sub(r'[^\\w\\s]', '', x))"
   ]
  },
  {
   "cell_type": "code",
   "execution_count": 97,
   "id": "4aac148a",
   "metadata": {},
   "outputs": [],
   "source": [
    "import re\n",
    "\n",
    "def find_words(string):\n",
    "  pattern = re.compile(r'\\b\\w{4,}\\b')\n",
    "  matched = pattern.findall(string)\n",
    "  return matched"
   ]
  },
  {
   "cell_type": "code",
   "execution_count": 98,
   "id": "a6e4c2c7",
   "metadata": {},
   "outputs": [
    {
     "name": "stdout",
     "output_type": "stream",
     "text": [
      "['string', 'that', 'atleat', 'character', 'long']\n"
     ]
    }
   ],
   "source": [
    "string = \"string that are atleat 4 character long.\"\n",
    "final_result = find_words(string)\n",
    "print(final_result)"
   ]
  },
  {
   "cell_type": "code",
   "execution_count": 99,
   "id": "60b9957d",
   "metadata": {},
   "outputs": [],
   "source": [
    "import re\n",
    "\n",
    "def find_words(string):\n",
    "  pattern = re.compile(r'\\b\\w{3,5}\\b')\n",
    "  matched = pattern.findall(string)\n",
    "  return matched"
   ]
  },
  {
   "cell_type": "code",
   "execution_count": 100,
   "id": "10d85d32",
   "metadata": {},
   "outputs": [
    {
     "name": "stdout",
     "output_type": "stream",
     "text": [
      "['This', 'with', 'words']\n"
     ]
    }
   ],
   "source": [
    "string = \"This is a sample string with words of different lengths.\"\n",
    "final_result = find_words(string)\n",
    "print(final_result)"
   ]
  },
  {
   "cell_type": "code",
   "execution_count": 101,
   "id": "aa6292de",
   "metadata": {},
   "outputs": [
    {
     "name": "stdout",
     "output_type": "stream",
     "text": [
      "Match not found\n",
      "Match not found\n"
     ]
    }
   ],
   "source": [
    "import re\n",
    "def text_match(text):\n",
    "        patterns = '^[a-zA-Z0-9_]*$'\n",
    "        if re.search(patterns,  text):\n",
    "                return 'match found'\n",
    "        else:\n",
    "                return('Match not found')\n",
    "\n",
    "print(text_match(\"plunk jumped over alexa\"))\n",
    "print(text_match(\"data science\"))"
   ]
  },
  {
   "cell_type": "code",
   "execution_count": 96,
   "id": "c8944a6a",
   "metadata": {},
   "outputs": [
    {
     "name": "stdout",
     "output_type": "stream",
     "text": [
      "True\n",
      "False\n"
     ]
    }
   ],
   "source": [
    "import re\n",
    "def match_number(string):\n",
    "    text = re.compile(r\"^5\")\n",
    "    if text.match(string):\n",
    "        return True\n",
    "    else:\n",
    "        return False\n",
    "print(match_number('5-2345861'))\n",
    "print(match_number('6-2345861'))"
   ]
  },
  {
   "cell_type": "code",
   "execution_count": 44,
   "id": "36d165ad",
   "metadata": {},
   "outputs": [
    {
     "name": "stdout",
     "output_type": "stream",
     "text": [
      "315..904.815\n"
     ]
    }
   ],
   "source": [
    "import re\n",
    "ip = \"315.00.904.815\"\n",
    "string = re.sub('\\.[0]*', '.', ip)\n",
    "print(string)"
   ]
  },
  {
   "cell_type": "code",
   "execution_count": 45,
   "id": "25326ae3",
   "metadata": {
    "scrolled": true
   },
   "outputs": [
    {
     "name": "stdout",
     "output_type": "stream",
     "text": [
      "['August']\n"
     ]
    }
   ],
   "source": [
    "import re\n",
    "\n",
    "text = \"On August 15th 1947 that India was declared independent from British colonialism, and the reins of control were handed over to the leaders of the Country.\"\n",
    "\n",
    "pattern = r\"\\b([A-Z][a-z]+) \\d{1,2}(?:st|nd|rd|th)? \\d{4}\\b\"\n",
    "\n",
    "matched = re.findall(pattern, text, num)\n",
    "print(matched)"
   ]
  },
  {
   "cell_type": "code",
   "execution_count": 102,
   "id": "d87f5676",
   "metadata": {},
   "outputs": [
    {
     "name": "stdout",
     "output_type": "stream",
     "text": [
      "Searching for \"fox\" in \"bruno jumps over alex.\" -\n",
      "Not Matched\n",
      "Searching for \"dog\" in \"bruno jumps over alex.\" -\n",
      "Not Matched\n",
      "Searching for \"horse\" in \"bruno jumps over alex.\" -\n",
      "Not Matched\n"
     ]
    }
   ],
   "source": [
    "import re\n",
    "patterns = [ 'fox', 'dog', 'horse' ]\n",
    "text = 'bruno jumps over alex.'\n",
    "for pattern in patterns:\n",
    "    print('Searching for \"%s\" in \"%s\" -' % (pattern, text),)\n",
    "    if re.search(pattern,  text):\n",
    "        print('Matched')\n",
    "    else:\n",
    "        print('Not Matched')\n",
    "\t\t"
   ]
  },
  {
   "cell_type": "code",
   "execution_count": 48,
   "id": "420fcb63",
   "metadata": {},
   "outputs": [],
   "source": [
    "import re\n",
    "\n",
    "def remove_words(string):\n",
    "  pattern = re.compile(r'\\b\\w{2,4}\\b')\n",
    "  modified_string = re.sub(pattern, '', string)\n",
    "  return modified_string"
   ]
  },
  {
   "cell_type": "code",
   "execution_count": 52,
   "id": "c03dff34",
   "metadata": {},
   "outputs": [
    {
     "name": "stdout",
     "output_type": "stream",
     "text": [
      "False\n"
     ]
    }
   ],
   "source": [
    "text = \"The following example creates an ArrayList with a capacity of 50 elements. 4 elements are then added to the ArrayList and the ArrayList is trimmed accordingly.\"\n",
    "\n",
    "result = remove_words(text)\n",
    "print(result == expected_output)  "
   ]
  },
  {
   "cell_type": "code",
   "execution_count": 67,
   "id": "a55f7971",
   "metadata": {},
   "outputs": [
    {
     "name": "stdout",
     "output_type": "stream",
     "text": [
      "1992-09-12\n"
     ]
    }
   ],
   "source": [
    "import datetime\n",
    "from datetime import date\n",
    "import re\n",
    "s = \"ron's birthday is on 1992-09-12 \"\n",
    "match = re.search(r'\\d{4}-\\d{2}-\\d{2}', s)\n",
    "date = datetime.datetime.strptime(match.group(), '%Y-%m-%d').date()\n",
    "print (date)"
   ]
  },
  {
   "cell_type": "code",
   "execution_count": 68,
   "id": "f157bf8b",
   "metadata": {},
   "outputs": [
    {
     "name": "stdout",
     "output_type": "stream",
     "text": [
      "@Jags123456 Bharat band on 28??<ed><ed>Those who are protesting #demonetization are all different party leaders\n"
     ]
    }
   ],
   "source": [
    "import re\n",
    "\n",
    "input_text = \"@Jags123456 Bharat band on 28??<ed><U+00A0><U+00BD><ed><U+00B8><U+0082>Those who are protesting #demonetization are all different party leaders\"\n",
    "\n",
    "pattern = r\"<U\\+\\w{4}>\"\n",
    "output_text = re.sub(pattern, \"\", input_text)\n",
    "\n",
    "print(output_text)"
   ]
  },
  {
   "cell_type": "code",
   "execution_count": 70,
   "id": "ab0a9d98",
   "metadata": {},
   "outputs": [
    {
     "name": "stdout",
     "output_type": "stream",
     "text": [
      "The hashtags in \"RT @kapil_kausik: #Doltiwal I mean #xyzabc is \"hurt\" by #Demonetization as the same has rendered USELESS <ed><U+00A0><U+00BD><ed><U+00B1><U+0089> \"acquired funds\" No wo\" are :\n",
      "Doltiwal\n",
      "xyzabc\n",
      "Demonetization\n"
     ]
    }
   ],
   "source": [
    " \n",
    "def extract_hashtags(text):\n",
    " \n",
    "    \n",
    "    hashtag_list = []\n",
    " \n",
    "    \n",
    "    for word in text.split():\n",
    " \n",
    "        if word[0] == '#':\n",
    " \n",
    "            hashtag_list.append(word[1:])\n",
    "\n",
    "    print(\"The hashtags in \\\"\" + text + \"\\\" are :\")\n",
    "    for hashtag in hashtag_list:\n",
    "        print(hashtag)\n",
    " \n",
    " \n",
    "if __name__ == \"__main__\":\n",
    "    text = \"\"\"RT @kapil_kausik: #Doltiwal I mean #xyzabc is \"hurt\" by #Demonetization as the same has rendered USELESS <ed><U+00A0><U+00BD><ed><U+00B1><U+0089> \"acquired funds\" No wo\"\"\"\n",
    "\n",
    "    extract_hashtags(text)\n",
    "    "
   ]
  },
  {
   "cell_type": "code",
   "execution_count": 103,
   "id": "5659757a",
   "metadata": {},
   "outputs": [
    {
     "ename": "SyntaxError",
     "evalue": "invalid syntax (1933029235.py, line 13)",
     "output_type": "error",
     "traceback": [
      "\u001b[0;36m  Cell \u001b[0;32mIn[103], line 13\u001b[0;36m\u001b[0m\n\u001b[0;31m    if__name__ == '__main__' :\u001b[0m\n\u001b[0m                             ^\u001b[0m\n\u001b[0;31mSyntaxError\u001b[0m\u001b[0;31m:\u001b[0m invalid syntax\n"
     ]
    }
   ],
   "source": [
    "import re\n",
    " \n",
    "regex = '[a-zA-z0-9]$'\n",
    "def check(string): \n",
    " \n",
    "    if(re.search(regex, string)): \n",
    "        print(\"Accept\") \n",
    "         \n",
    "    else: \n",
    "        print(\"Discord\") \n",
    "     \n",
    " if__name__ == '__main__' : \n",
    "     \n",
    "    string = \"pakhi@\"\n",
    "     \n",
    "    check(string)\n",
    " \n",
    "    string = \"shreya6\"\n",
    "    check(string)\n",
    " \n",
    "    string = \"shreya..\"\n",
    "    check(string)\n",
    " \n",
    "    string = \"inheritance\"\n",
    "    check(string)"
   ]
  },
  {
   "cell_type": "code",
   "execution_count": 77,
   "id": "e42f8ec2",
   "metadata": {},
   "outputs": [
    {
     "name": "stdout",
     "output_type": "stream",
     "text": [
      "Hello hello world\n"
     ]
    }
   ],
   "source": [
    "import re\n",
    "\n",
    "def remove_duplicates(sentence):\n",
    "  pattern = r'\\b(\\w+)(\\s+\\1\\b)+'\n",
    "  result = re.sub(pattern, r'\\1', sentence)\n",
    "  return result\n",
    "sentence = \"Hello hello world world\"\n",
    "output = remove_duplicates(sentence)\n",
    "print(output)"
   ]
  },
  {
   "cell_type": "code",
   "execution_count": 78,
   "id": "d8a06f81",
   "metadata": {},
   "outputs": [
    {
     "name": "stdout",
     "output_type": "stream",
     "text": [
      "4455\n"
     ]
    }
   ],
   "source": [
    "import re\n",
    "from collections import Counter\n",
    " \n",
    "def most_occurence_element(word):\n",
    "     \n",
    "    arr = re.findall(r'[0-9]+', word)    \n",
    "     \n",
    "    maxm = 0\n",
    " \n",
    "    max_elem = 0\n",
    "     \n",
    "    c = Counter(arr)\n",
    "     \n",
    "     \n",
    "    for x in list(c.keys()):\n",
    " \n",
    "        if c[x]>= maxm:\n",
    "            maxm = c[x]\n",
    "            max_elem = int(x)\n",
    "                 \n",
    "    return max_elem\n",
    " \n",
    "if __name__ == \"__main__\":\n",
    "    word = 'ingen4455regene'\n",
    "    print(most_occurence_element(word))"
   ]
  },
  {
   "cell_type": "code",
   "execution_count": 83,
   "id": "a4665c18",
   "metadata": {},
   "outputs": [
    {
     "name": "stdout",
     "output_type": "stream",
     "text": [
      "Regular Expression Is An Important Topic In Python\n"
     ]
    }
   ],
   "source": [
    "import re\n",
    "\n",
    "def insert_spaces(text):\n",
    "  \n",
    "  pattern = r'([A-Z][a-z]+)'\n",
    "  \n",
    "  result = re.sub(pattern, r' \\1', text)\n",
    "  \n",
    "  result = result.strip()\n",
    "  return result\n",
    "\n",
    "sample_text = \"Regular Expression Is An Important Topic In Python\"\n",
    "print(sample_text )"
   ]
  },
  {
   "cell_type": "code",
   "execution_count": 86,
   "id": "1df1c8ba",
   "metadata": {},
   "outputs": [
    {
     "name": "stdout",
     "output_type": "stream",
     "text": [
      "950\n"
     ]
    }
   ],
   "source": [
    "import re\n",
    "\n",
    "input_string = 'My marks in each semester are: 947, 896, 926, 524, 734, 950, 642'\n",
    "\n",
    "numeric_values = re.findall(r'\\d+', input_string)\n",
    "numeric_values = [int(value) for value in numeric_values]\n",
    "\n",
    "maximum_value = max(numeric_values)\n",
    "\n",
    "print(maximum_value)"
   ]
  },
  {
   "cell_type": "code",
   "execution_count": 87,
   "id": "c6ea7675",
   "metadata": {},
   "outputs": [
    {
     "name": "stdout",
     "output_type": "stream",
     "text": [
      "['01.12', '0132.12', '2.31', '145.8', '3.01', '27.25', '0.25']\n"
     ]
    }
   ],
   "source": [
    "import re\n",
    "\n",
    "def find_decimal_numbers(string):\n",
    "  pattern = re.compile(r'\\d+\\.\\d{1,2}')\n",
    "  decimal_numbers = re.findall(pattern, string)\n",
    "  return decimal_numbers\n",
    "\n",
    "sample_text = \"01.12 0132.123 2.31875 145.8 3.01 27.25 0.25\"\n",
    "output = find_decimal_numbers(sample_text)\n",
    "print(output)"
   ]
  },
  {
   "cell_type": "code",
   "execution_count": 93,
   "id": "e49978d2",
   "metadata": {},
   "outputs": [
    {
     "name": "stdout",
     "output_type": "stream",
     "text": [
      "20\n",
      "Index position: 31\n"
     ]
    }
   ],
   "source": [
    " import re\n",
    "data = \"This creates an ArrayList with 20 elements\"\n",
    "\n",
    "for m in re.finditer(\"\\d+\", data):\n",
    "    print(m.group(0))\n",
    "    print(\"Index position:\", m.start())"
   ]
  },
  {
   "cell_type": "code",
   "execution_count": 94,
   "id": "121012ee",
   "metadata": {},
   "outputs": [
    {
     "name": "stdout",
     "output_type": "stream",
     "text": [
      "Original date in YYY-MM-DD Format:  2024-01-01\n",
      "New date in DD-MM-YYYY Format:  01-01-2024\n"
     ]
    }
   ],
   "source": [
    "import re\n",
    "def rearrange_date(dt):\n",
    "        return re.sub(r'(\\d{4})-(\\d{1,2})-(\\d{1,2})', '\\\\3-\\\\2-\\\\1', dt)\n",
    "dt1 = \"2024-01-01\"\n",
    "print(\"Original date in YYY-MM-DD Format: \",dt1)\n",
    "print(\"New date in DD-MM-YYYY Format: \",rearrange_date(dt1))\n"
   ]
  },
  {
   "cell_type": "code",
   "execution_count": 95,
   "id": "f746333e",
   "metadata": {},
   "outputs": [
    {
     "name": "stdout",
     "output_type": "stream",
     "text": [
      "Found \"exercises\" at 23:32\n"
     ]
    }
   ],
   "source": [
    "import re\n",
    "text = 'programming classrooms,exercises, C classes'\n",
    "pattern = 'exercises'\n",
    "for match in re.finditer(pattern, text):\n",
    "    s = match.start()\n",
    "    e = match.end()\n",
    "    print('Found \"%s\" at %d:%d' % (text[s:e], s, e))"
   ]
  },
  {
   "cell_type": "code",
   "execution_count": null,
   "id": "c721dd02",
   "metadata": {},
   "outputs": [],
   "source": []
  }
 ],
 "metadata": {
  "kernelspec": {
   "display_name": "Python 3 (ipykernel)",
   "language": "python",
   "name": "python3"
  },
  "language_info": {
   "codemirror_mode": {
    "name": "ipython",
    "version": 3
   },
   "file_extension": ".py",
   "mimetype": "text/x-python",
   "name": "python",
   "nbconvert_exporter": "python",
   "pygments_lexer": "ipython3",
   "version": "3.11.4"
  }
 },
 "nbformat": 4,
 "nbformat_minor": 5
}
